{
 "cells": [
  {
   "cell_type": "markdown",
   "id": "0d42e0b6",
   "metadata": {},
   "source": [
    "# coursera assignment"
   ]
  },
  {
   "cell_type": "markdown",
   "id": "e3bc665d",
   "metadata": {},
   "source": [
    "##  Introduction. This notebook is for my assignment"
   ]
  },
  {
   "cell_type": "markdown",
   "id": "8d318eb7",
   "metadata": {},
   "source": [
    "###  Data Science Languages\n",
    "- Python\n",
    "- R\n",
    "- SQL\n",
    "- Julia\n"
   ]
  },
  {
   "cell_type": "markdown",
   "id": "d12acfd0",
   "metadata": {},
   "source": [
    "## Data Science Libraries\n",
    "- Pandas\n",
    "- NumPy\n",
    "- Matplotlib\n",
    "- Scikit-learn\n"
   ]
  },
  {
   "cell_type": "markdown",
   "id": "cdc576fb",
   "metadata": {},
   "source": [
    "## Data Science Tools\n",
    "| Tool        | Description                       |\n",
    "|-------------|-----------------------------------|\n",
    "| Jupyter     | Notebook environment              |\n",
    "| RStudio     | IDE for R                         |\n",
    "\n"
   ]
  },
  {
   "cell_type": "markdown",
   "id": "46357452",
   "metadata": {},
   "source": [
    "## Arithmetic Expressions: some basic arithmetic operations:"
   ]
  },
  {
   "cell_type": "code",
   "execution_count": 1,
   "id": "9a712529",
   "metadata": {},
   "outputs": [
    {
     "data": {
      "text/plain": [
       "520"
      ]
     },
     "execution_count": 1,
     "metadata": {},
     "output_type": "execute_result"
    }
   ],
   "source": [
    "# Multiplication and addition\n",
    "result = (4 * 98) + 128\n",
    "result\n"
   ]
  },
  {
   "cell_type": "code",
   "execution_count": 2,
   "id": "f71b5610",
   "metadata": {},
   "outputs": [
    {
     "data": {
      "text/plain": [
       "13.166666666666666"
      ]
     },
     "execution_count": 2,
     "metadata": {},
     "output_type": "execute_result"
    }
   ],
   "source": [
    "# Convert minutes to hours\n",
    "minutes = 790\n",
    "hours = minutes / 60\n",
    "hours\n"
   ]
  },
  {
   "cell_type": "markdown",
   "id": "13a10a2c",
   "metadata": {},
   "source": [
    "## Objectives\n",
    "- Understand Data Science tools like rstudio, jupyter notebook\n",
    "- Learn common libraries in python\n",
    "- Perform basic arithmetic operations\n"
   ]
  },
  {
   "cell_type": "markdown",
   "id": "776eb34e",
   "metadata": {},
   "source": [
    "## the author name is Arman"
   ]
  },
  {
   "cell_type": "code",
   "execution_count": null,
   "id": "4177ab61",
   "metadata": {},
   "outputs": [],
   "source": []
  }
 ],
 "metadata": {
  "kernelspec": {
   "display_name": "Python 3 (ipykernel)",
   "language": "python",
   "name": "python3"
  },
  "language_info": {
   "codemirror_mode": {
    "name": "ipython",
    "version": 3
   },
   "file_extension": ".py",
   "mimetype": "text/x-python",
   "name": "python",
   "nbconvert_exporter": "python",
   "pygments_lexer": "ipython3",
   "version": "3.11.5"
  }
 },
 "nbformat": 4,
 "nbformat_minor": 5
}
